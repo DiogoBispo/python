{
  "nbformat": 4,
  "nbformat_minor": 0,
  "metadata": {
    "colab": {
      "name": "Primeira rede neural com Python e Tensorflow.ipynb",
      "provenance": [],
      "collapsed_sections": [],
      "authorship_tag": "ABX9TyPxtWZdu65LSEHGd2r7S93b",
      "include_colab_link": true
    },
    "kernelspec": {
      "name": "python3",
      "display_name": "Python 3"
    },
    "language_info": {
      "name": "python"
    }
  },
  "cells": [
    {
      "cell_type": "markdown",
      "metadata": {
        "id": "view-in-github",
        "colab_type": "text"
      },
      "source": [
        "<a href=\"https://colab.research.google.com/github/DiogoBispo/python/blob/master/Primeira_rede_neural_com_Python_e_Tensorflow.ipynb\" target=\"_parent\"><img src=\"https://colab.research.google.com/assets/colab-badge.svg\" alt=\"Open In Colab\"/></a>"
      ]
    },
    {
      "cell_type": "code",
      "metadata": {
        "id": "R1v819TOjrBu"
      },
      "source": [
        "import tensorflow as tf\n",
        "import numpy as np"
      ],
      "execution_count": 12,
      "outputs": []
    },
    {
      "cell_type": "code",
      "metadata": {
        "id": "iGNPCbaHmDcH"
      },
      "source": [
        "celsius = np.array([-40, -10, 0, 8, 15, 22, 38], dtype=float)\n",
        "fahrenheit = np.array([-40, 14, 32, 46, 59, 72, 100], dtype=float)"
      ],
      "execution_count": 21,
      "outputs": []
    },
    {
      "cell_type": "code",
      "metadata": {
        "id": "F0wpmWW3myYh"
      },
      "source": [
        "#capa =  tf.keras.layers.Dense(units=1, input_shape=[1])\n",
        "#modelo = tf.keras.Sequential([capa])\n",
        "\n",
        "oculta1 = tf.keras.layers.Dense(units=3, input_shape=[1])\n",
        "oculta2 = tf.keras.layers.Dense(units=3)\n",
        "salida = tf.keras.layers.Dense(units=1)\n",
        "modelo = tf.keras.Sequential([oculta1, oculta2, salida])"
      ],
      "execution_count": 31,
      "outputs": []
    },
    {
      "cell_type": "code",
      "metadata": {
        "id": "CcCz5M2MqerW"
      },
      "source": [
        "modelo.compile(\n",
        "    optimizer=tf.keras.optimizers.Adam(0.1),\n",
        "    loss='mean_squared_error'\n",
        ")"
      ],
      "execution_count": 32,
      "outputs": []
    },
    {
      "cell_type": "code",
      "metadata": {
        "colab": {
          "base_uri": "https://localhost:8080/"
        },
        "id": "0jee6tsoq75-",
        "outputId": "bf640c28-fef0-4a61-edc7-69a0a442de40"
      },
      "source": [
        "print(\"Começo do treinamento\")\n",
        "historico = modelo.fit(celsius, fahrenheit, epochs=1000, verbose=False)\n",
        "print(\"Modelo treinado\")"
      ],
      "execution_count": 33,
      "outputs": [
        {
          "output_type": "stream",
          "name": "stdout",
          "text": [
            "Começo do treinamento\n",
            "Modelo treinado\n"
          ]
        }
      ]
    },
    {
      "cell_type": "code",
      "metadata": {
        "colab": {
          "base_uri": "https://localhost:8080/",
          "height": 297
        },
        "id": "5A_EnP4ur0rN",
        "outputId": "05e995a4-a1d5-4a71-d2dc-9eda72664227"
      },
      "source": [
        "import matplotlib.pyplot as plt\n",
        "plt.xlabel(\"Epoca\")\n",
        "plt.ylabel(\"Magnitude de perda\")\n",
        "plt.plot(historico.history[\"loss\"])"
      ],
      "execution_count": 34,
      "outputs": [
        {
          "output_type": "execute_result",
          "data": {
            "text/plain": [
              "[<matplotlib.lines.Line2D at 0x7fdded19fad0>]"
            ]
          },
          "metadata": {},
          "execution_count": 34
        },
        {
          "output_type": "display_data",
          "data": {
            "image/png": "[encoded data removed]",
            "text/plain": [
              "<Figure size 432x288 with 1 Axes>"
            ]
          },
          "metadata": {
            "needs_background": "light"
          }
        }
      ]
    },
    {
      "cell_type": "code",
      "metadata": {
        "colab": {
          "base_uri": "https://localhost:8080/"
        },
        "id": "J7YirVGCtiz4",
        "outputId": "0186c47d-8056-4900-926b-1a5b97019d47"
      },
      "source": [
        "print(\"Fazemos uma comparacao\")\n",
        "resultado = modelo.predict([100.0])\n",
        "print(\"O resultado é \" +str(resultado) + \" fahrenheit.\")"
      ],
      "execution_count": 35,
      "outputs": [
        {
          "output_type": "stream",
          "name": "stdout",
          "text": [
            "Fazemos uma comparacao\n",
            "O resultado é [[211.74744]] fahrenheit.\n"
          ]
        }
      ]
    },
    {
      "cell_type": "code",
      "metadata": {
        "colab": {
          "base_uri": "https://localhost:8080/"
        },
        "id": "6DsaSx43tp7A",
        "outputId": "0f742568-ceaf-4fbf-b4d7-d0f5b5841290"
      },
      "source": [
        "print(\"Variaveis internas do modelo\")\n",
        "#print(capa.get_weights()) \n",
        "\n",
        "print(oculta1.get_weights())\n",
        "print(oculta2.get_weights())\n",
        "print(salida.get_weights())"
      ],
      "execution_count": 36,
      "outputs": [
        {
          "output_type": "stream",
          "name": "stdout",
          "text": [
            "Variaveis internas do modelo\n",
            "[array([[-0.2462845 , -0.44882494, -1.051294  ]], dtype=float32), array([ 4.079441  ,  0.59208465, -4.3295827 ], dtype=float32)]\n",
            "[array([[ 0.51371956,  1.145366  ,  1.3596728 ],\n",
            "       [ 0.6984886 , -1.4450924 , -0.2339488 ],\n",
            "       [-1.3582824 ,  0.35211077, -0.22294481]], dtype=float32), array([ 4.092432 ,  3.413484 , -1.1703924], dtype=float32)]\n",
            "[array([[1.8206928 ],\n",
            "       [0.61710227],\n",
            "       [0.32911304]], dtype=float32), array([3.9922917], dtype=float32)]\n"
          ]
        }
      ]
    }
  ]
}