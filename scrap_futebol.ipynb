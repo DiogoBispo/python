{
  "nbformat": 4,
  "nbformat_minor": 0,
  "metadata": {
    "colab": {
      "provenance": [],
      "authorship_tag": "ABX9TyMIUlEBzwjUF3sKYIlhFxud",
      "include_colab_link": true
    },
    "kernelspec": {
      "name": "python3",
      "display_name": "Python 3"
    },
    "language_info": {
      "name": "python"
    }
  },
  "cells": [
    {
      "cell_type": "markdown",
      "metadata": {
        "id": "view-in-github",
        "colab_type": "text"
      },
      "source": [
        "<a href=\"https://colab.research.google.com/github/DiogoBispo/python/blob/master/scrap_futebol.ipynb\" target=\"_parent\"><img src=\"https://colab.research.google.com/assets/colab-badge.svg\" alt=\"Open In Colab\"/></a>"
      ]
    },
    {
      "cell_type": "code",
      "execution_count": 1,
      "metadata": {
        "colab": {
          "base_uri": "https://localhost:8080/"
        },
        "id": "_DsUKWgM4EWe",
        "outputId": "1df4fdd5-8e77-407e-bc61-e2d1cd7d78a2"
      },
      "outputs": [
        {
          "output_type": "stream",
          "name": "stdout",
          "text": [
            "Requirement already satisfied: requests in /usr/local/lib/python3.10/dist-packages (2.32.3)\n",
            "Requirement already satisfied: pandas in /usr/local/lib/python3.10/dist-packages (2.2.2)\n",
            "Requirement already satisfied: charset-normalizer<4,>=2 in /usr/local/lib/python3.10/dist-packages (from requests) (3.4.0)\n",
            "Requirement already satisfied: idna<4,>=2.5 in /usr/local/lib/python3.10/dist-packages (from requests) (3.10)\n",
            "Requirement already satisfied: urllib3<3,>=1.21.1 in /usr/local/lib/python3.10/dist-packages (from requests) (2.2.3)\n",
            "Requirement already satisfied: certifi>=2017.4.17 in /usr/local/lib/python3.10/dist-packages (from requests) (2024.8.30)\n",
            "Requirement already satisfied: numpy>=1.22.4 in /usr/local/lib/python3.10/dist-packages (from pandas) (1.26.4)\n",
            "Requirement already satisfied: python-dateutil>=2.8.2 in /usr/local/lib/python3.10/dist-packages (from pandas) (2.8.2)\n",
            "Requirement already satisfied: pytz>=2020.1 in /usr/local/lib/python3.10/dist-packages (from pandas) (2024.2)\n",
            "Requirement already satisfied: tzdata>=2022.7 in /usr/local/lib/python3.10/dist-packages (from pandas) (2024.2)\n",
            "Requirement already satisfied: six>=1.5 in /usr/local/lib/python3.10/dist-packages (from python-dateutil>=2.8.2->pandas) (1.16.0)\n"
          ]
        }
      ],
      "source": [
        "!pip install requests pandas"
      ]
    },
    {
      "cell_type": "code",
      "source": [
        "import requests\n",
        "import pandas as pd\n"
      ],
      "metadata": {
        "id": "FY-mN7V-Clp-"
      },
      "execution_count": 3,
      "outputs": []
    },
    {
      "cell_type": "code",
      "source": [
        "url ='https://www.sofascore.com/api/v1/event/12903984/statistics'\n",
        "headers = {'User-Agent': 'Mozilla/5.0 (X11; Ubuntu; Linux x86_64; rv:131.0) Gecko/20100101 Firefox/131.0'}\n",
        "\n",
        "response = requests.get(url, headers=headers)\n",
        "\n",
        "if response.status_code == 200:\n",
        "  data = response.json()\n",
        "\n",
        "  all_data = []\n",
        "\n",
        "  #loop percorre os 2 tempos do jogo\n",
        "  for match_stat in data['statistics']:\n",
        "    period = match_stat['period']\n",
        "\n",
        "    #loop percorre a visão geral da partida\n",
        "    for group in match_stat['groups']:\n",
        "      group_name = group['groupName']\n",
        "\n",
        "      for item in group['statisticsItems']:\n",
        "        stat_name = item.get('name')\n",
        "        home_value = item.get('home')\n",
        "        away_value = item.get('away')\n",
        "\n",
        "        all_data.append({\n",
        "          'period': period,\n",
        "          'group_name': group_name,\n",
        "          'stat_name': stat_name,\n",
        "          'home_value': home_value,\n",
        "          'away_value': away_value\n",
        "        })\n",
        "\n",
        "  #cria um dataframe com os dados\n",
        "  df = pd.DataFrame(all_data)\n",
        "\n",
        "  excel_file = 'futebol_stats.xlsx'\n",
        "  df.to_excel(excel_file, index=False)\n",
        "\n",
        "  print(f'Dados exportados para {excel_file}')\n",
        "else:\n",
        "  print('Falha na requisição')\n",
        "\n",
        "  df\n",
        "\n",
        "\n",
        "\n",
        ""
      ],
      "metadata": {
        "colab": {
          "base_uri": "https://localhost:8080/"
        },
        "id": "sebyqiiNC0E-",
        "outputId": "c506ff3f-3e58-43f2-cbec-cd2500086e43"
      },
      "execution_count": 6,
      "outputs": [
        {
          "output_type": "stream",
          "name": "stdout",
          "text": [
            "Dados exportados para futebol_stats.xlsx\n"
          ]
        }
      ]
    }
  ]
}