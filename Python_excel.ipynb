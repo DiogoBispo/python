{
  "nbformat": 4,
  "nbformat_minor": 0,
  "metadata": {
    "colab": {
      "name": "Untitled2.ipynb",
      "provenance": [],
      "collapsed_sections": [],
      "authorship_tag": "ABX9TyPBKKRA57P5DGJ8AoZJVC0u",
      "include_colab_link": true
    },
    "kernelspec": {
      "name": "python3",
      "display_name": "Python 3"
    },
    "language_info": {
      "name": "python"
    }
  },
  "cells": [
    {
      "cell_type": "markdown",
      "metadata": {
        "id": "view-in-github",
        "colab_type": "text"
      },
      "source": [
        "<a href=\"https://colab.research.google.com/github/DiogoBispo/python/blob/master/Python_excel.ipynb\" target=\"_parent\"><img src=\"https://colab.research.google.com/assets/colab-badge.svg\" alt=\"Open In Colab\"/></a>"
      ]
    },
    {
      "cell_type": "code",
      "metadata": {
        "colab": {
          "base_uri": "https://localhost:8080/",
          "height": 268
        },
        "id": "HBU9l3FPR7X5",
        "outputId": "d022ea76-a282-4714-c842-64e75e4d1277"
      },
      "source": [
        "#pandas\n",
        "import pandas as pd\n",
        "tabela = pd.read_excel(\"Produtos.xlsx\")\n",
        "display(tabela)\n"
      ],
      "execution_count": 17,
      "outputs": [
        {
          "output_type": "display_data",
          "data": {
            "text/html": [
              "<div>\n",
              "<style scoped>\n",
              "    .dataframe tbody tr th:only-of-type {\n",
              "        vertical-align: middle;\n",
              "    }\n",
              "\n",
              "    .dataframe tbody tr th {\n",
              "        vertical-align: top;\n",
              "    }\n",
              "\n",
              "    .dataframe thead th {\n",
              "        text-align: right;\n",
              "    }\n",
              "</style>\n",
              "<table border=\"1\" class=\"dataframe\">\n",
              "  <thead>\n",
              "    <tr style=\"text-align: right;\">\n",
              "      <th></th>\n",
              "      <th>Produtos</th>\n",
              "      <th>Preço Base Original</th>\n",
              "      <th>Tipo</th>\n",
              "      <th>Multiplicador Imposto</th>\n",
              "      <th>Preço Base Reais</th>\n",
              "    </tr>\n",
              "  </thead>\n",
              "  <tbody>\n",
              "    <tr>\n",
              "      <th>0</th>\n",
              "      <td>Tablet</td>\n",
              "      <td>999.99</td>\n",
              "      <td>Produto</td>\n",
              "      <td>1.1</td>\n",
              "      <td>1099.989</td>\n",
              "    </tr>\n",
              "    <tr>\n",
              "      <th>1</th>\n",
              "      <td>Pós Graduação</td>\n",
              "      <td>4500.00</td>\n",
              "      <td>Serviço</td>\n",
              "      <td>1.3</td>\n",
              "      <td>5850.000</td>\n",
              "    </tr>\n",
              "    <tr>\n",
              "      <th>2</th>\n",
              "      <td>Celular</td>\n",
              "      <td>899.99</td>\n",
              "      <td>Produto</td>\n",
              "      <td>1.1</td>\n",
              "      <td>989.989</td>\n",
              "    </tr>\n",
              "    <tr>\n",
              "      <th>3</th>\n",
              "      <td>Passagem Aérea</td>\n",
              "      <td>799.00</td>\n",
              "      <td>Serviço</td>\n",
              "      <td>1.3</td>\n",
              "      <td>1038.700</td>\n",
              "    </tr>\n",
              "    <tr>\n",
              "      <th>4</th>\n",
              "      <td>Computador</td>\n",
              "      <td>3000.00</td>\n",
              "      <td>Produto</td>\n",
              "      <td>1.1</td>\n",
              "      <td>3300.000</td>\n",
              "    </tr>\n",
              "    <tr>\n",
              "      <th>5</th>\n",
              "      <td>SPA</td>\n",
              "      <td>480.48</td>\n",
              "      <td>Serviço</td>\n",
              "      <td>1.3</td>\n",
              "      <td>624.624</td>\n",
              "    </tr>\n",
              "    <tr>\n",
              "      <th>6</th>\n",
              "      <td>Corte Cabelo</td>\n",
              "      <td>50.00</td>\n",
              "      <td>Serviço</td>\n",
              "      <td>1.3</td>\n",
              "      <td>65.000</td>\n",
              "    </tr>\n",
              "  </tbody>\n",
              "</table>\n",
              "</div>"
            ],
            "text/plain": [
              "         Produtos  Preço Base Original  ... Multiplicador Imposto  Preço Base Reais\n",
              "0          Tablet               999.99  ...                   1.1          1099.989\n",
              "1   Pós Graduação              4500.00  ...                   1.3          5850.000\n",
              "2         Celular               899.99  ...                   1.1           989.989\n",
              "3  Passagem Aérea               799.00  ...                   1.3          1038.700\n",
              "4      Computador              3000.00  ...                   1.1          3300.000\n",
              "5             SPA               480.48  ...                   1.3           624.624\n",
              "6    Corte Cabelo                50.00  ...                   1.3            65.000\n",
              "\n",
              "[7 rows x 5 columns]"
            ]
          },
          "metadata": {}
        }
      ]
    },
    {
      "cell_type": "code",
      "metadata": {
        "id": "XIxIx1liUPIP"
      },
      "source": [
        "#atualizar o multiplicador\n",
        "tabela.loc[tabela[\"Tipo\"]==\"Serviço\", \"Multiplicador Imposto\"] = 1.5\n",
        "\n",
        "\n",
        "# fazer a conta do Preço Base Reais\n",
        "tabela[\"Preço Base Reais\"] = tabela[\"Multiplicador Imposto\"] * tabela [\"Preço Base Original\"]\n",
        "\n",
        "#criando arquivo excel com a conta acima\n",
        "tabela.to_excel(\"Produtos_Pandas.xlsx\", index=False) "
      ],
      "execution_count": 22,
      "outputs": []
    },
    {
      "cell_type": "code",
      "metadata": {
        "id": "TzR0Ug6AWoqp"
      },
      "source": [
        "#openpyxl\n",
        "from openpyxl import Workbook, load_workbook\n",
        "\n",
        "planilha = load_workbook(\"Produtos.xlsx\")\n",
        "\n",
        "#usa a aba que aparece primeiro quando abre o arquivo\n",
        "aba_ativa = planilha.active\n",
        "\n",
        "#filtro pela tabela na coluna 'C'\n",
        "for celula in aba_ativa[\"C\"]:\n",
        "      if celula.value == \"Serviço\":\n",
        "        linha = celula.row\n",
        "        aba_ativa[f\"D{linha}\"] = 1.5\n",
        "\n",
        "planilha.save (\"Produtos_OpenPy.xlsx\")"
      ],
      "execution_count": 23,
      "outputs": []
    }
  ]
}