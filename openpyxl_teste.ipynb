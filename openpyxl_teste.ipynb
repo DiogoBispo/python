{
  "nbformat": 4,
  "nbformat_minor": 0,
  "metadata": {
    "colab": {
      "provenance": [],
      "authorship_tag": "ABX9TyMfsZVW3NMEIC8+dy0qxvJo",
      "include_colab_link": true
    },
    "kernelspec": {
      "name": "python3",
      "display_name": "Python 3"
    },
    "language_info": {
      "name": "python"
    }
  },
  "cells": [
    {
      "cell_type": "markdown",
      "metadata": {
        "id": "view-in-github",
        "colab_type": "text"
      },
      "source": [
        "<a href=\"https://colab.research.google.com/github/DiogoBispo/python/blob/master/openpyxl_teste.ipynb\" target=\"_parent\"><img src=\"https://colab.research.google.com/assets/colab-badge.svg\" alt=\"Open In Colab\"/></a>"
      ]
    },
    {
      "cell_type": "code",
      "execution_count": 9,
      "metadata": {
        "colab": {
          "base_uri": "https://localhost:8080/"
        },
        "id": "vNZf9noGcLe2",
        "outputId": "2599a17e-ff5a-4e5a-f4c1-2277a0b5b113"
      },
      "outputs": [
        {
          "output_type": "execute_result",
          "data": {
            "text/plain": [
              "6"
            ]
          },
          "metadata": {},
          "execution_count": 9
        }
      ],
      "source": [
        "from openpyxl import load_workbook\n",
        "\n",
        "wb = load_workbook('banca_jornal1.xlsx')\n",
        "wb.sheetnames\n",
        "\n",
        "sheet = wb['Planilha1']\n",
        "#sheet['A1'].value\n",
        "#sheet['C6'].value\n",
        "sheet.max_row\n",
        "\n"
      ]
    },
    {
      "cell_type": "code",
      "source": [
        "for linha in range(2, sheet.max_row + 1):\n",
        "    produto = sheet.cell(linha, 1).value\n",
        "    un_vendidas = sheet.cell(linha, 2).value\n",
        "    vlr_un = sheet.cell(linha, 3).value\n",
        "    print(f'O produto {produto} teve {un_vendidas} unidades vendidas pelo valor unitario R${vlr_un}')"
      ],
      "metadata": {
        "colab": {
          "base_uri": "https://localhost:8080/"
        },
        "id": "ei6d2xohd9KU",
        "outputId": "4333fc8a-3399-46c2-9465-471befdad244"
      },
      "execution_count": 10,
      "outputs": [
        {
          "output_type": "stream",
          "name": "stdout",
          "text": [
            "O produto Chiclete teve 45 unidades vendidas pelo valor unitario R$1\n",
            "O produto Barra de Chocolate teve 23 unidades vendidas pelo valor unitario R$4\n",
            "O produto Agua mineral teve 66 unidades vendidas pelo valor unitario R$2\n",
            "O produto Jornal teve 4 unidades vendidas pelo valor unitario R$0.5\n",
            "O produto Salgadinho teve 16 unidades vendidas pelo valor unitario R$2.5\n"
          ]
        }
      ]
    },
    {
      "cell_type": "code",
      "source": [
        "wb.close()\n"
      ],
      "metadata": {
        "id": "Jt5Yo9MyeL0E"
      },
      "execution_count": 11,
      "outputs": []
    }
  ]
}